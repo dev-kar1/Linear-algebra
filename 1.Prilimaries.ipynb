{
  "metadata": {
    "language_info": {
      "codemirror_mode": {
        "name": "python",
        "version": 3
      },
      "file_extension": ".py",
      "mimetype": "text/x-python",
      "name": "python",
      "nbconvert_exporter": "python",
      "pygments_lexer": "ipython3",
      "version": "3.8"
    },
    "kernelspec": {
      "name": "python",
      "display_name": "Python (Pyodide)",
      "language": "python"
    }
  },
  "nbformat_minor": 4,
  "nbformat": 4,
  "cells": [
    {
      "cell_type": "markdown",
      "source": "# Notations\n1. $\\mathbb{R}$ is the set of real numbers. elements look like $1,2,-1,\\pi,\\sqrt{2},5.2,etc$\n2. $\\mathbb{R}^2$ is the set of 2 tuples from $\\mathbb{R}$. Elements look like $(0,0),(1,3),(3,\\sqrt{7}), etc.$\n3. $\\mathbb{R}^n$ is the set of $n$ (here $n$ can be any natural number) tuples from $\\mathbb{R}$\n",
      "metadata": {
        "jp-MarkdownHeadingCollapsed": true,
        "tags": []
      }
    },
    {
      "cell_type": "markdown",
      "source": "# Libraries\nLibraries contain some standard packages of function which helps to avoid writing repeatative codes and makes calculation faster.\nInorder to use libraries one needs to import them\n### 1. Numpy \n**This** library is very useful, one can check the inbuilt fubctions numpy contaion by writing the codes as given below",
      "metadata": {}
    },
    {
      "cell_type": "code",
      "source": "import numpy#importing the library numpy\nprint(dir(numpy))\nprint(len(dir(numpy)))\n#One can also check the same for other libraries (pandas,scipy,etc)",
      "metadata": {
        "trusted": true
      },
      "execution_count": 19,
      "outputs": [
        {
          "name": "stdout",
          "text": "['ALLOW_THREADS', 'BUFSIZE', 'CLIP', 'DataSource', 'ERR_CALL', 'ERR_DEFAULT', 'ERR_IGNORE', 'ERR_LOG', 'ERR_PRINT', 'ERR_RAISE', 'ERR_WARN', 'FLOATING_POINT_SUPPORT', 'FPE_DIVIDEBYZERO', 'FPE_INVALID', 'FPE_OVERFLOW', 'FPE_UNDERFLOW', 'False_', 'Inf', 'Infinity', 'MAXDIMS', 'MAY_SHARE_BOUNDS', 'MAY_SHARE_EXACT', 'NAN', 'NINF', 'NZERO', 'NaN', 'PINF', 'PZERO', 'RAISE', 'RankWarning', 'SHIFT_DIVIDEBYZERO', 'SHIFT_INVALID', 'SHIFT_OVERFLOW', 'SHIFT_UNDERFLOW', 'ScalarType', 'True_', 'UFUNC_BUFSIZE_DEFAULT', 'UFUNC_PYVALS_NAME', 'WRAP', '_CopyMode', '_NoValue', '_UFUNC_API', '__NUMPY_SETUP__', '__all__', '__builtins__', '__cached__', '__config__', '__deprecated_attrs__', '__dir__', '__doc__', '__expired_functions__', '__file__', '__former_attrs__', '__future_scalars__', '__getattr__', '__git_version__', '__loader__', '__name__', '__package__', '__path__', '__spec__', '__version__', '_add_newdoc_ufunc', '_builtins', '_distributor_init', '_financial_names', '_get_promotion_state', '_globals', '_int_extended_msg', '_mat', '_no_nep50_warning', '_pyinstaller_hooks_dir', '_pytesttester', '_set_promotion_state', '_specific_msg', '_typing', '_using_numpy2_behavior', '_utils', '_version', 'abs', 'absolute', 'add', 'add_docstring', 'add_newdoc', 'add_newdoc_ufunc', 'all', 'allclose', 'alltrue', 'amax', 'amin', 'angle', 'any', 'append', 'apply_along_axis', 'apply_over_axes', 'arange', 'arccos', 'arccosh', 'arcsin', 'arcsinh', 'arctan', 'arctan2', 'arctanh', 'argmax', 'argmin', 'argpartition', 'argsort', 'argwhere', 'around', 'array', 'array2string', 'array_equal', 'array_equiv', 'array_repr', 'array_split', 'array_str', 'asanyarray', 'asarray', 'asarray_chkfinite', 'ascontiguousarray', 'asfarray', 'asfortranarray', 'asmatrix', 'atleast_1d', 'atleast_2d', 'atleast_3d', 'average', 'bartlett', 'base_repr', 'binary_repr', 'bincount', 'bitwise_and', 'bitwise_not', 'bitwise_or', 'bitwise_xor', 'blackman', 'block', 'bmat', 'bool_', 'broadcast', 'broadcast_arrays', 'broadcast_shapes', 'broadcast_to', 'busday_count', 'busday_offset', 'busdaycalendar', 'byte', 'byte_bounds', 'bytes_', 'c_', 'can_cast', 'cast', 'cbrt', 'cdouble', 'ceil', 'cfloat', 'char', 'character', 'chararray', 'choose', 'clip', 'clongdouble', 'clongfloat', 'column_stack', 'common_type', 'compare_chararrays', 'compat', 'complex128', 'complex256', 'complex64', 'complex_', 'complexfloating', 'compress', 'concatenate', 'conj', 'conjugate', 'convolve', 'copy', 'copysign', 'copyto', 'corrcoef', 'correlate', 'cos', 'cosh', 'count_nonzero', 'cov', 'cross', 'csingle', 'ctypeslib', 'cumprod', 'cumproduct', 'cumsum', 'datetime64', 'datetime_as_string', 'datetime_data', 'deg2rad', 'degrees', 'delete', 'deprecate', 'deprecate_with_doc', 'diag', 'diag_indices', 'diag_indices_from', 'diagflat', 'diagonal', 'diff', 'digitize', 'disp', 'divide', 'divmod', 'dot', 'double', 'dsplit', 'dstack', 'dtype', 'dtypes', 'e', 'ediff1d', 'einsum', 'einsum_path', 'emath', 'empty', 'empty_like', 'equal', 'errstate', 'euler_gamma', 'exceptions', 'exp', 'exp2', 'expand_dims', 'expm1', 'extract', 'eye', 'fabs', 'fastCopyAndTranspose', 'fft', 'fill_diagonal', 'find_common_type', 'finfo', 'fix', 'flatiter', 'flatnonzero', 'flexible', 'flip', 'fliplr', 'flipud', 'float128', 'float16', 'float32', 'float64', 'float_', 'float_power', 'floating', 'floor', 'floor_divide', 'fmax', 'fmin', 'fmod', 'format_float_positional', 'format_float_scientific', 'format_parser', 'frexp', 'from_dlpack', 'frombuffer', 'fromfile', 'fromfunction', 'fromiter', 'frompyfunc', 'fromregex', 'fromstring', 'full', 'full_like', 'gcd', 'generic', 'genfromtxt', 'geomspace', 'get_array_wrap', 'get_include', 'get_printoptions', 'getbufsize', 'geterr', 'geterrcall', 'geterrobj', 'gradient', 'greater', 'greater_equal', 'half', 'hamming', 'hanning', 'heaviside', 'histogram', 'histogram2d', 'histogram_bin_edges', 'histogramdd', 'hsplit', 'hstack', 'hypot', 'i0', 'identity', 'iinfo', 'imag', 'in1d', 'index_exp', 'indices', 'inexact', 'inf', 'info', 'infty', 'inner', 'insert', 'int16', 'int32', 'int64', 'int8', 'int_', 'intc', 'integer', 'interp', 'intersect1d', 'intp', 'invert', 'is_busday', 'isclose', 'iscomplex', 'iscomplexobj', 'isfinite', 'isfortran', 'isin', 'isinf', 'isnan', 'isnat', 'isneginf', 'isposinf', 'isreal', 'isrealobj', 'isscalar', 'issctype', 'issubclass_', 'issubdtype', 'issubsctype', 'iterable', 'ix_', 'kaiser', 'kron', 'lcm', 'ldexp', 'left_shift', 'less', 'less_equal', 'lexsort', 'lib', 'linalg', 'linspace', 'little_endian', 'load', 'loadtxt', 'log', 'log10', 'log1p', 'log2', 'logaddexp', 'logaddexp2', 'logical_and', 'logical_not', 'logical_or', 'logical_xor', 'logspace', 'longcomplex', 'longdouble', 'longfloat', 'longlong', 'lookfor', 'ma', 'mask_indices', 'mat', 'matmul', 'matrix', 'max', 'maximum', 'maximum_sctype', 'may_share_memory', 'mean', 'median', 'memmap', 'meshgrid', 'mgrid', 'min', 'min_scalar_type', 'minimum', 'mintypecode', 'mod', 'modf', 'moveaxis', 'msort', 'multiply', 'nan', 'nan_to_num', 'nanargmax', 'nanargmin', 'nancumprod', 'nancumsum', 'nanmax', 'nanmean', 'nanmedian', 'nanmin', 'nanpercentile', 'nanprod', 'nanquantile', 'nanstd', 'nansum', 'nanvar', 'nbytes', 'ndarray', 'ndenumerate', 'ndim', 'ndindex', 'nditer', 'negative', 'nested_iters', 'newaxis', 'nextafter', 'nonzero', 'not_equal', 'numarray', 'number', 'obj2sctype', 'object_', 'ogrid', 'oldnumeric', 'ones', 'ones_like', 'outer', 'packbits', 'pad', 'partition', 'percentile', 'pi', 'piecewise', 'place', 'poly', 'poly1d', 'polyadd', 'polyder', 'polydiv', 'polyfit', 'polyint', 'polymul', 'polynomial', 'polysub', 'polyval', 'positive', 'power', 'printoptions', 'prod', 'product', 'promote_types', 'ptp', 'put', 'put_along_axis', 'putmask', 'quantile', 'r_', 'rad2deg', 'radians', 'random', 'ravel', 'ravel_multi_index', 'real', 'real_if_close', 'rec', 'recarray', 'recfromcsv', 'recfromtxt', 'reciprocal', 'record', 'remainder', 'repeat', 'require', 'reshape', 'resize', 'result_type', 'right_shift', 'rint', 'roll', 'rollaxis', 'roots', 'rot90', 'round', 'round_', 'row_stack', 's_', 'safe_eval', 'save', 'savetxt', 'savez', 'savez_compressed', 'sctype2char', 'sctypeDict', 'sctypes', 'searchsorted', 'select', 'set_numeric_ops', 'set_printoptions', 'set_string_function', 'setbufsize', 'setdiff1d', 'seterr', 'seterrcall', 'seterrobj', 'setxor1d', 'shape', 'shares_memory', 'short', 'show_config', 'show_runtime', 'sign', 'signbit', 'signedinteger', 'sin', 'sinc', 'single', 'singlecomplex', 'sinh', 'size', 'sometrue', 'sort', 'sort_complex', 'source', 'spacing', 'split', 'sqrt', 'square', 'squeeze', 'stack', 'std', 'str_', 'string_', 'subtract', 'sum', 'swapaxes', 'take', 'take_along_axis', 'tan', 'tanh', 'tensordot', 'test', 'testing', 'tile', 'timedelta64', 'trace', 'tracemalloc_domain', 'transpose', 'trapz', 'tri', 'tril', 'tril_indices', 'tril_indices_from', 'trim_zeros', 'triu', 'triu_indices', 'triu_indices_from', 'true_divide', 'trunc', 'typecodes', 'typename', 'ubyte', 'ufunc', 'uint', 'uint16', 'uint32', 'uint64', 'uint8', 'uintc', 'uintp', 'ulonglong', 'unicode_', 'union1d', 'unique', 'unpackbits', 'unravel_index', 'unsignedinteger', 'unwrap', 'ushort', 'vander', 'var', 'vdot', 'vectorize', 'version', 'void', 'vsplit', 'vstack', 'where', 'who', 'zeros', 'zeros_like']\n595\n",
          "output_type": "stream"
        }
      ]
    },
    {
      "cell_type": "markdown",
      "source": "### Vectors\nWe usually treat vectors as tuples/row vector/ column vector/ coordinates to do calculations\nFor instance $v=(1,1,2)$ is a vector  in $\\mathbb{R}^3$.\nWe can say polynomial functions such as $x^2+2x+1$ is also a vector and we would like it to be seen as $(1,2,1)$ more pricisely (coefficient of $x^2$,coefficient of $x^1$,coefficient of $x^0$",
      "metadata": {}
    },
    {
      "cell_type": "markdown",
      "source": "## Scalar Multiplication",
      "metadata": {
        "tags": []
      }
    },
    {
      "cell_type": "markdown",
      "source": "Let $\\alpha$ be a scalar and $v$ be any vector then $\\alpha\\cdot v$ is a scalar multiplication. Equivalently the vector $v$ is said to be scaled by the factor $\\alpha$",
      "metadata": {}
    },
    {
      "cell_type": "markdown",
      "source": "for example $\\alpha=3$ is a scalar and $v=(2,3,5)$ is a vector then we can compute $\\alpha\\cdot v$ as\n$$3\\cdot (2,3,5)=(3\\times2,3\\times3,3\\times5)=(6,9,15)$$",
      "metadata": {}
    },
    {
      "cell_type": "code",
      "source": "x=[2,3,5]\nfor i in range (3):\n      x[i]=3*x[i]\nx\n",
      "metadata": {
        "trusted": true
      },
      "execution_count": 1,
      "outputs": [
        {
          "execution_count": 1,
          "output_type": "execute_result",
          "data": {
            "text/plain": "[6, 9, 15]"
          },
          "metadata": {}
        }
      ]
    },
    {
      "cell_type": "markdown",
      "source": "# Vector dot product",
      "metadata": {}
    },
    {
      "cell_type": "markdown",
      "source": "In vector dot product we take two vectors together to find a value teremed as the dot product.\nFor example\n$v_1 \\text{ and } v_2$ are two vectors and while dealing with vectors as coordinate vectors we prefer multiplying coordinates of $v_1$ to corresponding coordinates of $v_2$\nNote:There are many other forms of inner product which brings various other geometric interpretibilities.",
      "metadata": {}
    },
    {
      "cell_type": "code",
      "source": "#Finding the dot product of two vectors v_1=(1,2,3,4) and v_2=(3,1,2,1) using for loop\nz=[0,0,0,0] #initializing z for getting dot product\nv_1=[1,2,3,4] \nv_2=[3,1,2,1]\nfor i in range (4) :\n    z[i]=v_1[i]*v_2[i]\nw=z[0]+z[1]+z[2]+z[3]\nprint(w)",
      "metadata": {
        "trusted": true
      },
      "execution_count": 3,
      "outputs": [
        {
          "name": "stdout",
          "text": "15\n",
          "output_type": "stream"
        }
      ]
    },
    {
      "cell_type": "code",
      "source": "#Using numpy to find dot product\nimport numpy as np\nv_1=[1,2,3,4] \nv_2=[3,1,2,1]\nnp.dot(v_1,v_2)",
      "metadata": {
        "trusted": true
      },
      "execution_count": 2,
      "outputs": [
        {
          "execution_count": 2,
          "output_type": "execute_result",
          "data": {
            "text/plain": "15"
          },
          "metadata": {}
        }
      ]
    },
    {
      "cell_type": "markdown",
      "source": "Note: it is not useful to use tuples as they are immutable.",
      "metadata": {}
    },
    {
      "cell_type": "markdown",
      "source": "# Special Vectors",
      "metadata": {}
    },
    {
      "cell_type": "markdown",
      "source": "1. Zero vector\nusually rpresented as the symbol 0, represents to a unique vector in the space that never alters the vector to which it is added.\n$(0,0,0)$ is the zero vector in $\\mathbb{R}^3$",
      "metadata": {}
    },
    {
      "cell_type": "markdown",
      "source": "2. Unit Vectors are special class of vector that have a length equal to unity. For example:\n$$(1,0,0),(0,1,0),(0,0,1),\\left(\\frac{1}{\\sqrt{3}},\\frac{1}{\\sqrt{3}},\\frac{1}{\\sqrt{3}}\\right),etc.$$",
      "metadata": {}
    },
    {
      "cell_type": "markdown",
      "source": "# Dimension of a vector\nA vector is said $n$ dimentional if it has $n$ coordinates.\n$(0,0,0) $ is a 3 dimentional vector.\nThe first entry is said to be 1st coordinate correspondingly the last coordinate is said to be the n-th coordintae.\nOne can implement python to check number of coordinates a vector has and print its dimention",
      "metadata": {}
    },
    {
      "cell_type": "code",
      "source": "#Identifying the dimentions of vectors v_1=(1,2,1),v_2=(3,2),v_3=(1,2,1,2,1,2,3,88), v_4=(0,0,0,0)\nv_1=[1,2,1]\nv_2=[3,2]\nv_3=[1,2,1,2,1,2,3,88]\nv_4=[0,0,0,0]\nprint(\"Dimention of v_1 is:\",len(v_1))\nprint(\"Dimention of v_2 is:\",len(v_2))\nprint(\"Dimention of v_3 is:\",len(v_3))\nprint(\"Dimention of v_4 is:\",len(v_4))\n",
      "metadata": {
        "trusted": true
      },
      "execution_count": 41,
      "outputs": [
        {
          "name": "stdout",
          "text": "Dimention of v_1 is: 3\nDimention of v_2 is: 2\nDimention of v_3 is: 8\nDimention of v_4 is: 4\n",
          "output_type": "stream"
        }
      ]
    },
    {
      "cell_type": "markdown",
      "source": "# Geometry and visualization for dimention\nIn geometry one can visualize one dimention as the real line, 2 dimention as the 2-D plane, 3-D as the Space.\n",
      "metadata": {}
    },
    {
      "cell_type": "code",
      "source": "# import image module \nfrom IPython.display import Image \n\n# get the image \nImage(url=\"/home/srmap/Downloads/geogebra-export.png\", width=300, height=300) \n",
      "metadata": {
        "trusted": true
      },
      "execution_count": 43,
      "outputs": [
        {
          "execution_count": 43,
          "output_type": "execute_result",
          "data": {
            "text/html": "<img src=\"/home/srmap/Downloads/geogebra-export.png\" width=\"300\" height=\"300\"/>",
            "text/plain": "<IPython.core.display.Image object>"
          },
          "metadata": {}
        }
      ]
    },
    {
      "cell_type": "code",
      "source": "# import image module \nfrom IPython.display import Image \n\n# get the image \nImage(url=\"/home/srmap/Downloads/geogebra-export(1).png\", width=300, height=300) \n",
      "metadata": {
        "trusted": true
      },
      "execution_count": 45,
      "outputs": [
        {
          "execution_count": 45,
          "output_type": "execute_result",
          "data": {
            "text/html": "<img src=\"/home/srmap/Downloads/geogebra-export(1).png\" width=\"300\" height=\"300\"/>",
            "text/plain": "<IPython.core.display.Image object>"
          },
          "metadata": {}
        }
      ]
    },
    {
      "cell_type": "code",
      "source": "# import image module \nfrom IPython.display import Image \n\n# get the image \nImage(url=\"/home/srmap/Downloads/geogebra-export(2).png\", width=300, height=300) \n",
      "metadata": {
        "trusted": true
      },
      "execution_count": 48,
      "outputs": [
        {
          "execution_count": 48,
          "output_type": "execute_result",
          "data": {
            "text/html": "<img src=\"/home/srmap/Downloads/geogebra-export(2).png\" width=\"300\" height=\"300\"/>",
            "text/plain": "<IPython.core.display.Image object>"
          },
          "metadata": {}
        }
      ]
    },
    {
      "cell_type": "markdown",
      "source": "## Basic vector operations\n# Vector-vector addition\nVector addition is only defined for vectors of same size.\nThe symbol used is $+$",
      "metadata": {}
    },
    {
      "cell_type": "markdown",
      "source": "$$ \\begin{align}\nx+y=\n     \\begin{bmatrix}\n           x_{1} \\\\\n           x_{2} \\\\\n           \\vdots \\\\\n           x_{m}\n         \\end{bmatrix}\n         +\n          \\begin{bmatrix}\n           y_{1} \\\\\n           y_{2} \\\\\n           \\vdots \\\\\n           y_{m}\n         \\end{bmatrix}\n         = \\begin{bmatrix}\n           x_{1}+y_1 \\\\\n           x_{2}+y_2 \\\\\n           \\vdots \\\\\n           x_{m}+y_m\n         \\end{bmatrix}\n  \\end{align} $$\n  ",
      "metadata": {}
    },
    {
      "cell_type": "markdown",
      "source": "For instance we need to add $x=(1,2,1),y=(1,-1,1)$ as\n$$ \\begin{align}\nx+y=\n     \\begin{bmatrix}\n           1 \\\\\n           2 \\\\\n           1 \n         \\end{bmatrix}\n         +\n          \\begin{bmatrix}\n           1 \\\\\n           -1 \\\\\n           1\n         \\end{bmatrix}\n         = \\begin{bmatrix}\n           1+1\\\\\n           2+(-1) \\\\\n           1+1\n         \\end{bmatrix}\n         =\\begin{bmatrix}\n           2\\\\\n           1 \\\\\n           2\n         \\end{bmatrix}\n  \\end{align} $$\n  ",
      "metadata": {}
    },
    {
      "cell_type": "code",
      "source": "# \nx_plus_y=[0,0,0]\nb=[1,2,1]\nc=[1,-1,1]\nfor i in range (3):\n    x_plus_y[i]=b[i]*c[i]\nprint(x_plus_y)",
      "metadata": {
        "trusted": true
      },
      "execution_count": 60,
      "outputs": [
        {
          "name": "stdout",
          "text": "[1, -2, 1]\n",
          "output_type": "stream"
        }
      ]
    },
    {
      "cell_type": "markdown",
      "source": "# Multiplication of Vector by scalar\nA vector can be multiplied with a scalar to obtain another vector. We use the symbol $\\cdot$\nThis means for every sclar $\\alpha$ and vector $v$ we can assign a vector $u=\\alpha\\cdot u$\n\nTo obtain zero vector we need to multiply the scalar 0 with the vector.\nVector-scalar multiplication is defined as:\n$$ \\begin{align}\n\\alpha\\cdot x=\\alpha\\cdot\n     \\begin{bmatrix}\n           x_{1} \\\\\n           x_{2} \\\\\n           \\vdots \\\\\n           x_{m}\n         \\end{bmatrix}\n         = \\begin{bmatrix}\n           \\alpha\\cdot x_{1} \\\\\n           \\alpha\\cdot x_{2} \\\\\n           \\vdots \\\\\n           \\alpha\\cdot x_{m}\n         \\end{bmatrix}\n  \\end{align} $$\n  \n For instance we need to find the scalar-vector multiplication of $\\alpha=2$ and $x=(1,2,1)$ \n  $$ \\begin{align}\n\\alpha\\cdot x=2\\cdot\n     \\begin{bmatrix}\n           1 \\\\\n           2 \\\\\n           1\n         \\end{bmatrix}\n         = \\begin{bmatrix}\n           2\\cdot 1 \\\\\n           2\\cdot 2 \\\\\n           2\\cdot 1\n         \\end{bmatrix}\n         =  \\begin{bmatrix}\n           2\\\\\n           4 \\\\\n           2\n         \\end{bmatrix}\n  \\end{align} $$",
      "metadata": {}
    },
    {
      "cell_type": "code",
      "source": "",
      "metadata": {},
      "execution_count": null,
      "outputs": []
    },
    {
      "cell_type": "code",
      "source": "# Scalar Vector multiplication\nx=[1,2,1]\nalpha=2\nfor i in range (3):\n    x[i]=2*x[i]\nprint(x)",
      "metadata": {
        "trusted": true
      },
      "execution_count": 62,
      "outputs": [
        {
          "name": "stdout",
          "text": "[2, 4, 2]\n",
          "output_type": "stream"
        }
      ]
    },
    {
      "cell_type": "code",
      "source": "#Using numpy\nx=np.array([[1],[2],[1]])\n2*x",
      "metadata": {
        "trusted": true
      },
      "execution_count": 63,
      "outputs": [
        {
          "execution_count": 62,
          "output_type": "execute_result",
          "data": {
            "text/plain": "array([[2],\n       [4],\n       [2]])"
          },
          "metadata": {}
        }
      ]
    },
    {
      "cell_type": "markdown",
      "source": "## Vector Space\nLet $V$ be a nonempty set and $F$ be a field (usually we would use $\\mathbb{R}$) along with vector addition and scalar multiplication, then we say $(V,F,+,\\cdot)$ is a vector space if the following axioms is satisfied:\n1. Associativity of vector addition: $u+(v+w)=(u+v)+w$\n2. Commutativity of vector addition: $u+v=v+u$\n3. Existance of \"identity element\": There exists an element 0 ∈ V, called the zero vector, such that $v+0=v$ for all $v\\in V$\n4. Existance of inverse: For every $v \\in V$, there exists an element $−v\\in V$, called the additive inverse of $v$, such that $v+(−v)= 0$\n5. Compatibility of scalar multiplication with field multiplication:$a\\cdot(b\\cdot v)=(a\\cdot b)\\cdot v$\n6. Identity element of scalar multiplication:$1\\cdot v=v$, where $1$ denotes the multiplicative identity in $F$\n7. Distributivity of scalar multiplication with respect to vector addition:\t$a\\cdot (u+v)=a\\cdot u+a\\cdot v$\n8. Distributivity of scalar multiplication with respect to field addition: $(a+b)\\cdot v=a\\cdot v+b\\cdot v$\n",
      "metadata": {}
    },
    {
      "cell_type": "markdown",
      "source": "",
      "metadata": {}
    },
    {
      "cell_type": "code",
      "source": "# using the inbuilt feature for array\nimport numpy as np\nx=np.array([[1],[2],[11]])\nx",
      "metadata": {
        "trusted": true
      },
      "execution_count": 57,
      "outputs": [
        {
          "execution_count": 57,
          "output_type": "execute_result",
          "data": {
            "text/plain": "array([[ 1],\n       [ 2],\n       [11]])"
          },
          "metadata": {}
        }
      ]
    },
    {
      "cell_type": "code",
      "source": "x.shape",
      "metadata": {
        "trusted": true
      },
      "execution_count": 58,
      "outputs": [
        {
          "execution_count": 58,
          "output_type": "execute_result",
          "data": {
            "text/plain": "(3, 1)"
          },
          "metadata": {}
        }
      ]
    },
    {
      "cell_type": "code",
      "source": "#The output says the dimention 3*1 that is three rows and 1 columns",
      "metadata": {
        "trusted": true
      },
      "execution_count": 3,
      "outputs": []
    },
    {
      "cell_type": "code",
      "source": "#writing a 3*3 matrix\\\nimport numpy as np\nx=np.array([[1,2,3],[3,2,1],[1,2,1]])\nx",
      "metadata": {
        "trusted": true
      },
      "execution_count": 12,
      "outputs": [
        {
          "execution_count": 12,
          "output_type": "execute_result",
          "data": {
            "text/plain": "array([[1, 2, 3],\n       [3, 2, 1],\n       [1, 2, 1]])"
          },
          "metadata": {}
        }
      ]
    },
    {
      "cell_type": "code",
      "source": "#extacting the entries of the matrix \nimport numpy as np\nx=np.array([[1,2,3],[3,2,1],[1,2,1]])\nfor i in range (3):\n    for j in range (3):\n        a=x[i][j]\n        print(a)",
      "metadata": {
        "trusted": true
      },
      "execution_count": 24,
      "outputs": [
        {
          "name": "stdout",
          "text": "1\n2\n3\n3\n2\n1\n1\n2\n1\n",
          "output_type": "stream"
        }
      ]
    },
    {
      "cell_type": "code",
      "source": "#Matrix multiplication\nimport numpy as np\nx=np.array([[1,2,3],[3,2,1],[1,2,1]])\ny=np.array([[1,1,2],[1,2,1],[1,2,2]])\nz=np.array([[0,0,0],[0,0,0],[0,0,0]])\nfor i in range (3):\n    for j in range (3):\n        z[i][j]=x[i][j]*y[i][j]\n        print(z)",
      "metadata": {
        "trusted": true
      },
      "execution_count": 26,
      "outputs": [
        {
          "name": "stdout",
          "text": "[[1 0 0]\n [0 0 0]\n [0 0 0]]\n[[1 2 0]\n [0 0 0]\n [0 0 0]]\n[[1 2 6]\n [0 0 0]\n [0 0 0]]\n[[1 2 6]\n [3 0 0]\n [0 0 0]]\n[[1 2 6]\n [3 4 0]\n [0 0 0]]\n[[1 2 6]\n [3 4 1]\n [0 0 0]]\n[[1 2 6]\n [3 4 1]\n [1 0 0]]\n[[1 2 6]\n [3 4 1]\n [1 4 0]]\n[[1 2 6]\n [3 4 1]\n [1 4 2]]\n",
          "output_type": "stream"
        }
      ]
    },
    {
      "cell_type": "code",
      "source": "import numpy as np\nx=np.array([[1,2,3],[3,2,1],[1,2,1]])\ny=np.array([[1,1,2],[1,2,1],[1,2,2]])\nz=np.array([[0,0,0],[0,0,0],[0,0,0]])\nnp.x*y",
      "metadata": {
        "trusted": true
      },
      "execution_count": 27,
      "outputs": [
        {
          "ename": "<class 'AttributeError'>",
          "evalue": "module 'numpy' has no attribute 'x'",
          "traceback": [
            "\u001b[0;31m---------------------------------------------------------------------------\u001b[0m",
            "\u001b[0;31mAttributeError\u001b[0m                            Traceback (most recent call last)",
            "Cell \u001b[0;32mIn[27], line 5\u001b[0m\n\u001b[1;32m      3\u001b[0m y\u001b[38;5;241m=\u001b[39mnp\u001b[38;5;241m.\u001b[39marray([[\u001b[38;5;241m1\u001b[39m,\u001b[38;5;241m1\u001b[39m,\u001b[38;5;241m2\u001b[39m],[\u001b[38;5;241m1\u001b[39m,\u001b[38;5;241m2\u001b[39m,\u001b[38;5;241m1\u001b[39m],[\u001b[38;5;241m1\u001b[39m,\u001b[38;5;241m2\u001b[39m,\u001b[38;5;241m2\u001b[39m]])\n\u001b[1;32m      4\u001b[0m z\u001b[38;5;241m=\u001b[39mnp\u001b[38;5;241m.\u001b[39marray([[\u001b[38;5;241m0\u001b[39m,\u001b[38;5;241m0\u001b[39m,\u001b[38;5;241m0\u001b[39m],[\u001b[38;5;241m0\u001b[39m,\u001b[38;5;241m0\u001b[39m,\u001b[38;5;241m0\u001b[39m],[\u001b[38;5;241m0\u001b[39m,\u001b[38;5;241m0\u001b[39m,\u001b[38;5;241m0\u001b[39m]])\n\u001b[0;32m----> 5\u001b[0m \u001b[43mnp\u001b[49m\u001b[38;5;241;43m.\u001b[39;49m\u001b[43mx\u001b[49m\u001b[38;5;241m*\u001b[39my\n",
            "File \u001b[0;32m/lib/python3.11/site-packages/numpy/__init__.py:328\u001b[0m, in \u001b[0;36m__getattr__\u001b[0;34m(attr)\u001b[0m\n\u001b[1;32m    325\u001b[0m     \u001b[38;5;124m\"\u001b[39m\u001b[38;5;124mRemoved in NumPy 1.25.0\u001b[39m\u001b[38;5;124m\"\u001b[39m\n\u001b[1;32m    326\u001b[0m     \u001b[38;5;28;01mraise\u001b[39;00m \u001b[38;5;167;01mRuntimeError\u001b[39;00m(\u001b[38;5;124m\"\u001b[39m\u001b[38;5;124mTester was removed in NumPy 1.25.\u001b[39m\u001b[38;5;124m\"\u001b[39m)\n\u001b[0;32m--> 328\u001b[0m \u001b[38;5;28;01mraise\u001b[39;00m \u001b[38;5;167;01mAttributeError\u001b[39;00m(\u001b[38;5;124m\"\u001b[39m\u001b[38;5;124mmodule \u001b[39m\u001b[38;5;132;01m{!r}\u001b[39;00m\u001b[38;5;124m has no attribute \u001b[39m\u001b[38;5;124m\"\u001b[39m\n\u001b[1;32m    329\u001b[0m                      \u001b[38;5;124m\"\u001b[39m\u001b[38;5;132;01m{!r}\u001b[39;00m\u001b[38;5;124m\"\u001b[39m\u001b[38;5;241m.\u001b[39mformat(\u001b[38;5;18m__name__\u001b[39m, attr))\n",
            "\u001b[0;31mAttributeError\u001b[0m: module 'numpy' has no attribute 'x'"
          ],
          "output_type": "error"
        }
      ]
    },
    {
      "cell_type": "code",
      "source": "x=np.array([1,2,3])\ny=np.array([4,5,6])\nimport numpy as np\nd_1=np.subtract(x,y)\nd_2=d_1[0]*d_1[0]+d_1[1]*d_1[1]+d_1[2]*d_1[2]\nd_3=np.sqrt(d_2)\n#linalg.norm(x-y)\nprint(d_1)\nprint(d_2)\nprint(d_3)\n",
      "metadata": {
        "trusted": true
      },
      "execution_count": 30,
      "outputs": [
        {
          "name": "stdout",
          "text": "[-3 -3 -3]\n27\n5.196152422706632\n",
          "output_type": "stream"
        }
      ]
    },
    {
      "cell_type": "code",
      "source": "x=[1,10,1]\ny=[1,2,1]\nimport numpy as np\nx-y",
      "metadata": {
        "trusted": true
      },
      "execution_count": 25,
      "outputs": [
        {
          "ename": "<class 'TypeError'>",
          "evalue": "unsupported operand type(s) for -: 'list' and 'list'",
          "traceback": [
            "\u001b[0;31m---------------------------------------------------------------------------\u001b[0m",
            "\u001b[0;31mTypeError\u001b[0m                                 Traceback (most recent call last)",
            "Cell \u001b[0;32mIn[25], line 4\u001b[0m\n\u001b[1;32m      2\u001b[0m y\u001b[38;5;241m=\u001b[39m[\u001b[38;5;241m1\u001b[39m,\u001b[38;5;241m2\u001b[39m,\u001b[38;5;241m1\u001b[39m]\n\u001b[1;32m      3\u001b[0m \u001b[38;5;28;01mimport\u001b[39;00m \u001b[38;5;21;01mnumpy\u001b[39;00m \u001b[38;5;28;01mas\u001b[39;00m \u001b[38;5;21;01mnp\u001b[39;00m\n\u001b[0;32m----> 4\u001b[0m \u001b[43mx\u001b[49m\u001b[38;5;241;43m-\u001b[39;49m\u001b[43my\u001b[49m\n",
            "\u001b[0;31mTypeError\u001b[0m: unsupported operand type(s) for -: 'list' and 'list'"
          ],
          "output_type": "error"
        }
      ]
    },
    {
      "cell_type": "markdown",
      "source": "A space is formed using vectors called the vector space which is associated with two operations namely vector addition and scalar multiplication",
      "metadata": {}
    }
  ]
}