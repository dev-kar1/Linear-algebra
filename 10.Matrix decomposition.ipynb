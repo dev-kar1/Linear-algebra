{
  "metadata": {
    "language_info": {
      "codemirror_mode": {
        "name": "python",
        "version": 3
      },
      "file_extension": ".py",
      "mimetype": "text/x-python",
      "name": "python",
      "nbconvert_exporter": "python",
      "pygments_lexer": "ipython3",
      "version": "3.8"
    },
    "kernelspec": {
      "name": "python",
      "display_name": "Python (Pyodide)",
      "language": "python"
    }
  },
  "nbformat_minor": 4,
  "nbformat": 4,
  "cells": [
    {
      "cell_type": "markdown",
      "source": "# Matrix decomposition\nBreaking a matrix into product of simpler matrices is termed as matrix decomposition",
      "metadata": {}
    },
    {
      "cell_type": "markdown",
      "source": "## LU Decomposition\n- Also known as lower-upper decomposition\n- A matrix $M$ is represented as a product of lower triangular and upper triangular matrix.\n$$M=LU$$\n- It is very much useful in handling problems in numerical linear algebra.\n- Gaussian elimination method can be implemented here.\n- it can be obtained from noninvertible or singular matrices, and from non-square matrices.\n- For example,\n$$\\begin{bmatrix}2&2\\\\ 6&8\\end{bmatrix}=\\begin{bmatrix}1&0\\\\ 3&1\\end{bmatrix}\\begin{bmatrix}2&1\\\\ 0&5\\end{bmatrix}$$\n## LU Decomposition algorithm\n- Matrix M is given.\n- Write $M=IM$\n- Apply gaussian elimination, where one has to obtain a triangular matrix after elementary operations on $M$.\n- Do the same operations in $I$ to get a lower triangular matrix.\n- For example,\n$$\\begin{bmatrix}2&2\\\\ 6&8\\end{bmatrix}=\\begin{bmatrix}1&0\\\\ 0&1\\end{bmatrix}\\begin{bmatrix}2&2\\\\ 6&8\\end{bmatrix}=\\begin{bmatrix}1&0\\\\ -3&1\\end{bmatrix}\\begin{bmatrix}2&2\\\\ 0&2\\end{bmatrix}\\text{  }R_2 \\leftarrow R_2-2R_1$$\n- scipy library in python can be used for finding LU decomposition.",
      "metadata": {}
    },
    {
      "cell_type": "code",
      "source": "import numpy as np\nfrom scipy.linalg import lu\nA = np.array([[2, 1, 1, 0],\n              [4, 3, 3, 1],\n              [8, 7, 9, 5],\n              [6, 7, 9, 8]])\nP,L,U= lu(A)\nP # pivot matrix",
      "metadata": {
        "trusted": true
      },
      "execution_count": 28,
      "outputs": [
        {
          "execution_count": 28,
          "output_type": "execute_result",
          "data": {
            "text/plain": "array([[0., 0., 0., 1.],\n       [0., 0., 1., 0.],\n       [1., 0., 0., 0.],\n       [0., 1., 0., 0.]])"
          },
          "metadata": {}
        }
      ]
    },
    {
      "cell_type": "markdown",
      "source": "## QR Decomposition\n- A matrix M is represented as a product of an orthhogonal matrix $Q$ and an upper triangular matrix $R$.\n- So it is also called QU decomposition.\n- we treat $Q$ as a special kind of composition of orthonormal vectors. ($QQ^T=I$)\n- Let's visit some more conceps from Basis.\n\n## Orthogonal basis\n- Recall that a LI subset spanning the whole vector space is called a basis.\n- Orthogonal basis as the name suggests is a basis with an extra property that the vectors present in it are orthogonal to each other.\n- A basis is said to be orthogonal if every member in the basis give inner product zero.\n\n## Orthonormal basis\n- An **orthogonal basis** is said to be orthonormal if every member in the basis are of unit length.\n- We already know unit vector along $v$ is given by $\\hat{v}=\\frac{v}{||v||}$, so using this fact we can justify that, every orthogonal basis can be made an orthonormal basis.\n- We denote matrices of these sets as $Q$ and a result associated is $QQ^T=I$ even though they are not square matrices.\n- Notice that it is easier to find an othonormal basis if a orthogonal basis is given, what about constucting a orthogonal matrix from a simple basis? or why do we even need it?\n- Basis are said to be computationally efficient and of good use as well as visualize, aprt from it there are wide applications of these basis are orthogonal/orthonormal.\n- Grahm Schmidt orthogonalization is a process to construct a orthogonal basis from any basis set.",
      "metadata": {}
    },
    {
      "cell_type": "code",
      "source": "# findig \nimport numpy as np\nx, y = np.array([[3],[4],[0]]), np.array([[-4],[3],[2]])\n\n# euclidean norm of x and y\nx_norm = np.linalg.norm(x, 2)\ny_norm = np.linalg.norm(y, 2)\n\n# normalized x or unit vector\nx_unit = x * (1/x_norm)  \ny_unit = y * (1/y_norm)  \nprint(f'Euclidean norm of x:\\n{x_norm}\\n')\nprint(f'Euclidean norm of y:\\n{y_norm}\\n')\n\nprint(f'Normalized x:\\n{x_unit}\\n')\nprint(f'Normalized y:\\n{y_unit}')\n",
      "metadata": {
        "trusted": true
      },
      "execution_count": 24,
      "outputs": [
        {
          "name": "stdout",
          "text": "Euclidean norm of x:\n5.0\n\nEuclidean norm of y:\n5.385164807134504\n\nNormalized x:\n[[0.6]\n [0.8]\n [0. ]]\n\nNormalized y:\n[[-0.74278135]\n [ 0.55708601]\n [ 0.37139068]]\n",
          "output_type": "stream"
        }
      ]
    },
    {
      "cell_type": "code",
      "source": "print(f'Euclidean norm of normalized x:\\n{np.round(np.linalg.norm(x_unit, 2),1)}\\n')\nprint(f'Euclidean norm of normalized y:\\n{np.round(np.linalg.norm(y_unit, 2),1)}')\n",
      "metadata": {
        "trusted": true
      },
      "execution_count": 25,
      "outputs": [
        {
          "name": "stdout",
          "text": "Euclidean norm of normalized x:\n1.0\n\nEuclidean norm of normalized y:\n1.0\n",
          "output_type": "stream"
        }
      ]
    },
    {
      "cell_type": "code",
      "source": "\n\nprint(f'Inner product normalized vectors:\\n{np.round(x_unit.T @ y_unit,1)}\\n')\nprint(f'Inner product normalized x with itself:\\n{np.round(x_unit.T @ x_unit,1)}\\n') \nprint(f'Inner product normalized y with itself:\\n{np.round(y_unit.T @ y_unit,1)}') \n",
      "metadata": {
        "trusted": true
      },
      "execution_count": 26,
      "outputs": [
        {
          "name": "stdout",
          "text": "Inner product normalized vectors:\n[[-0.]]\n\nInner product normalized x with itself:\n[[1.]]\n\nInner product normalized y with itself:\n[[1.]]\n",
          "output_type": "stream"
        }
      ]
    },
    {
      "cell_type": "markdown",
      "source": "# Grahm schimdt orthogonalization\nIt is a tool for finding an orthogonal basis form any other basis.\n**Algorithm**\n- Basis $B=\\{v_1,v_2,\\cdots v_m\\}$ is given.\n- $u_1=\\frac{v_1}{||v_1||}$\n- $u_2=v_2-\\frac{<u_1,v_2>}{||u_1||}u_1$\n- $\\cdots$\n- $u_k=v_{k}-\\frac{<u_{k-1},v_{k}>}{||u_{k-1}||}u_{k-1}$\n- The resultant set $B'=\\{u_1,u_2,\\cdots ,u_m\\}$ is an orthogonal set.\n- More precisely its an orthonormal set, so this process can also betermed as Grahm schimdt orthonormalization.\n- **Note** donot be surprised to see $<u,v>=u^Tv$",
      "metadata": {}
    },
    {
      "cell_type": "code",
      "source": "# orthogonalization of basis {(2,4),(-4,-2)}\nimport numpy as np\nv1=np.array([[2,4]])\nv2=np.array([[-4,2]])\nif np.inner(v1,v2)==0:\n    print('orthogonal vectors')\nelse: print('not orthogonal') \nnom_v1=np.linalg.norm(v1,2)\nnom_v2=np.linalg.norm(v2,2)\nu1=(1/nom_v1)*v1\nu2=(1/nom_v1)*v1\nprint('the orthonormal set is:',u1,u2)",
      "metadata": {
        "trusted": true
      },
      "execution_count": 11,
      "outputs": [
        {
          "name": "stdout",
          "text": "orthogonal vectors\nthe orthonormal set is: [[0.4472136  0.89442719]] [[0.4472136  0.89442719]]\n",
          "output_type": "stream"
        }
      ]
    },
    {
      "cell_type": "code",
      "source": "np.linalg.norm(u1,2)",
      "metadata": {
        "trusted": true
      },
      "execution_count": 22,
      "outputs": [
        {
          "execution_count": 22,
          "output_type": "execute_result",
          "data": {
            "text/plain": "1.0"
          },
          "metadata": {}
        }
      ]
    },
    {
      "cell_type": "code",
      "source": "np.linalg.norm(u2,2)",
      "metadata": {
        "trusted": true
      },
      "execution_count": 23,
      "outputs": [
        {
          "execution_count": 23,
          "output_type": "execute_result",
          "data": {
            "text/plain": "1.0"
          },
          "metadata": {}
        }
      ]
    },
    {
      "cell_type": "code",
      "source": "# orthogonarmalization of basis {(2,4),(-4,-2)}\nimport numpy as np\nv1=np.array([[2,4]])\nv2=np.array([[-4,2]])\nif np.inner(v1,v2)==0:\n    print('orthogonal vectors')\nelse: print('not orthogonal') \nnom_v1=np.linalg.norm(v1,2)\nnom_v2=np.linalg.norm(v2,2)\nu1=(1/nom_v1)*v1\nu2=v2-np.inner(v2,u1)*(1/nom_v1)*v1\nprint('the orthonormal set is:',u1,u2)\n# find u1=v1/v1 norm\n#u2=v2-inner (v2,v1)v1\n",
      "metadata": {
        "trusted": true
      },
      "execution_count": 30,
      "outputs": [
        {
          "name": "stdout",
          "text": "orthogonal vectors\nthe orthonormal set is: [[0.4472136  0.89442719]] [[-4.  2.]]\n",
          "output_type": "stream"
        }
      ]
    },
    {
      "cell_type": "code",
      "source": "",
      "metadata": {},
      "execution_count": null,
      "outputs": []
    },
    {
      "cell_type": "code",
      "source": "",
      "metadata": {},
      "execution_count": null,
      "outputs": []
    },
    {
      "cell_type": "markdown",
      "source": "# QR Decomposition Algorithm\nIt is related with the Gram schimdt process.\n",
      "metadata": {}
    },
    {
      "cell_type": "code",
      "source": "",
      "metadata": {},
      "execution_count": null,
      "outputs": []
    },
    {
      "cell_type": "code",
      "source": "",
      "metadata": {},
      "execution_count": null,
      "outputs": []
    },
    {
      "cell_type": "code",
      "source": "",
      "metadata": {},
      "execution_count": null,
      "outputs": []
    },
    {
      "cell_type": "code",
      "source": "",
      "metadata": {},
      "execution_count": null,
      "outputs": []
    },
    {
      "cell_type": "code",
      "source": "",
      "metadata": {},
      "execution_count": null,
      "outputs": []
    },
    {
      "cell_type": "code",
      "source": "",
      "metadata": {},
      "execution_count": null,
      "outputs": []
    },
    {
      "cell_type": "code",
      "source": "",
      "metadata": {},
      "execution_count": null,
      "outputs": []
    },
    {
      "cell_type": "code",
      "source": "",
      "metadata": {},
      "execution_count": null,
      "outputs": []
    },
    {
      "cell_type": "code",
      "source": "",
      "metadata": {},
      "execution_count": null,
      "outputs": []
    },
    {
      "cell_type": "code",
      "source": "",
      "metadata": {},
      "execution_count": null,
      "outputs": []
    }
  ]
}