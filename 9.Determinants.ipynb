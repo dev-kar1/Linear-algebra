{
  "metadata": {
    "kernelspec": {
      "name": "python",
      "display_name": "Python (Pyodide)",
      "language": "python"
    },
    "language_info": {
      "codemirror_mode": {
        "name": "python",
        "version": 3
      },
      "file_extension": ".py",
      "mimetype": "text/x-python",
      "name": "python",
      "nbconvert_exporter": "python",
      "pygments_lexer": "ipython3",
      "version": "3.8"
    }
  },
  "nbformat_minor": 4,
  "nbformat": 4,
  "cells": [
    {
      "cell_type": "markdown",
      "source": "# Determinants\n- The determinant is restricted to square matrices only.\n- It is a number that tells a lot about a matrix.\n- Determinant is zero, then we call matrix a singular matrix(non-invertible or inverse doesnot exist), moreover such matrix has LD rows or columns.\n- Most of the cases we are inerested if determinant of a matrix is zero or non-zero\n- determinant of a matrix $A$ is often denoted as $det(A)$ or $|A|$",
      "metadata": {}
    },
    {
      "cell_type": "markdown",
      "source": "## Area of parallelogram\n- Let in xy plane for two sides of a parallelogram is given as vector coordinates.\n- write the first vector in first row and second vector in second row.\n- we obtain a matrix like $A=\\begin{pmatrix}a&b\\\\ c&d\\end{pmatrix}$ and $det(A)$ gives area in sq. units.\n",
      "metadata": {}
    },
    {
      "cell_type": "code",
      "source": "# Find determinant\n# importing Numpy package \nimport numpy as np \n\n# creating a 2X2 Numpy matrix \na= np.array([[6, 2], [3, 4]]) \n\n# Displaying the Matrix \nprint(\"A=\") \nprint(a) \n\n# calculating the determinant of matrix \ndet = np.linalg.det(a) \n\nprint(\"\\nDeterminant of given matrix is :\") \nprint(int(det)) \n",
      "metadata": {
        "trusted": true
      },
      "outputs": [
        {
          "name": "stdout",
          "text": "A=\n[[6 2]\n [3 4]]\n\nDeterminant of given matrix is :\n17\n",
          "output_type": "stream"
        }
      ],
      "execution_count": 2
    },
    {
      "cell_type": "markdown",
      "source": "## Determinants as scaling factors\nIt is better to understand this using an example.\nConsider the matrix $A=\\begin{bmatrix}2&2\\\\ 1&3\\end{bmatrix}$ and $x=\\begin{bmatrix}3&5\\end{bmatrix}$",
      "metadata": {}
    },
    {
      "cell_type": "code",
      "source": "# Computing determinant of A\nimport numpy as np\nA=np.array([[2,2],\n           [1,3]])\nx=np.array([[3],\n           [5]])\nx.T@A\nnp.linalg.det(A)",
      "metadata": {
        "trusted": true
      },
      "outputs": [
        {
          "execution_count": 9,
          "output_type": "execute_result",
          "data": {
            "text/plain": "4.0"
          },
          "metadata": {}
        }
      ],
      "execution_count": 9
    }
  ]
}