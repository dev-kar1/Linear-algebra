{
  "metadata": {
    "kernelspec": {
      "name": "python",
      "display_name": "Python (Pyodide)",
      "language": "python"
    },
    "language_info": {
      "codemirror_mode": {
        "name": "python",
        "version": 3
      },
      "file_extension": ".py",
      "mimetype": "text/x-python",
      "name": "python",
      "nbconvert_exporter": "python",
      "pygments_lexer": "ipython3",
      "version": "3.8"
    }
  },
  "nbformat_minor": 4,
  "nbformat": 4,
  "cells": [
    {
      "cell_type": "markdown",
      "source": "# Matrices\nThese are rectangular array of objects.\n- Terms like element,entries,etc. refer to the objects of the matrix.\n- Matrix has rows and columns.\n- rows represent vectors in horizontal sense.\n- columns represent the vectors in vertical sense.\n- A matrix having $n\\text{ columns and }m \\text{ rows }$is said to be of order $m\\times n$.\n- An entry of a matrix is always seen as $a_{ij}$ where $i$ is row number $j$ is column number.\n- If the number of rows and columns in a matrix are same then it is called a square matrix.\n- Square matrix are very much significant in linear algebra.\n$$A=\\begin{pmatrix}\na_{11} & a_{12}&\\cdots & a_{1n}\\\\\na_{21} & a_{22}&\\cdots & a_{2n}\\\\\n\\cdots\\\\\na_{n1} & a_{n2}&\\cdots & a_{nn}\\\\\n\\end{pmatrix}$$\n",
      "metadata": {}
    },
    {
      "cell_type": "code",
      "source": "# printing a matrix\nimport numpy as np\nnp.array([[1,2],[4,5]]) #array() returns us matrix row-wise array([1st row],[2nd row], and so on...)",
      "metadata": {
        "trusted": true
      },
      "outputs": [
        {
          "execution_count": 2,
          "output_type": "execute_result",
          "data": {
            "text/plain": "array([[1, 2],\n       [4, 5]])"
          },
          "metadata": {}
        }
      ],
      "execution_count": 2
    },
    {
      "cell_type": "code",
      "source": "import numpy as np\nnp.array([[1],[5]]) \n# one can play with this to form matrices of different orders",
      "metadata": {
        "trusted": true
      },
      "outputs": [
        {
          "execution_count": 4,
          "output_type": "execute_result",
          "data": {
            "text/plain": "array([[1],\n       [5]])"
          },
          "metadata": {}
        }
      ],
      "execution_count": 4
    },
    {
      "cell_type": "code",
      "source": "#printing specific entry of an array\nimport numpy as np\na=np.array([[1,2,3],[4,5,6]])\na[1][1] #a_ij=a[i-+][j+1] for python, be careful!! so it starts indexing from 0, but we prefer from 1",
      "metadata": {
        "trusted": true
      },
      "outputs": [
        {
          "execution_count": 11,
          "output_type": "execute_result",
          "data": {
            "text/plain": "5"
          },
          "metadata": {}
        }
      ],
      "execution_count": 11
    },
    {
      "cell_type": "code",
      "source": "#no of rows/columns\nimport numpy as np\na=np.array([[1,2,3],[4,5,6]])\na.shape #notice that this .shape gives the order of our matrix",
      "metadata": {
        "trusted": true
      },
      "outputs": [
        {
          "execution_count": 15,
          "output_type": "execute_result",
          "data": {
            "text/plain": "(2, 3)"
          },
          "metadata": {}
        }
      ],
      "execution_count": 15
    },
    {
      "cell_type": "markdown",
      "source": "## Multiplication of matrices\n- Let $A=[a_{ij}]_{m\\times n}$ and $B=[b_{ij}]_{n\\times p}$ then \n$$A\\times B=C=[c_{ij}]_{m\\times p}=\\left[\\sum_{k=1}^{n}{a_{ik}}+b_{kj}\\right]_{m\\times p}$$\n- Matrix multiplication is valid for matrices if number of rows in one matrix is same as no of columns of another matrix.\n- Square matrices of same order can be treated with matrix multiplicatin and the resultant matrix is also square matrix of same order.\n- Matrices are often linked to linear transformation, system of equation.\n- Although mmatrix multiplication is very much calculative, but still it has a lot to do with geometric aspects. Well known Operations such as rotation, inversion,etc. can be identified as a matrix multiplication.\n\n### Properties\n- $AB\\ne BA$ always!!\n- $A(BC)=(AB)C$\n- $A(B+C)=AB+AC$\n- $\\alpha AB=(\\alpha A)B$\n- $(AB)^T=B^TA^T$",
      "metadata": {}
    },
    {
      "cell_type": "code",
      "source": "# Matrix multiplication\nA=[[1,2,3],[4,5,6]]\nB=[[1,4],[1,2],[2,1]]\nC=[[0,0],[0,0]]\nfor i in range (len(A)): # A is of length 2\n    for j in range (len(B[0])): #B[0] is of length 3\n        for k in range (len(B)): # defining k to store values in c\n            C[i][j]=C[i][j]+A[i][k]*B[k][j] #storing cij valu as a sum of product of columns of a with rows of b\nprint(C)",
      "metadata": {
        "trusted": true
      },
      "outputs": [
        {
          "name": "stdout",
          "text": "[[9, 11], [21, 32]]\n",
          "output_type": "stream"
        }
      ],
      "execution_count": 64
    },
    {
      "cell_type": "code",
      "source": "# Matrix muliplication with numpy\n# we would take matrices of order such that no of rows of first is same as no of columns in second matrix\nimport numpy as np\nA=np.array([[1,2,3],[4,5,6]])\nB=np.array([[1,4],[1,2],[2,1]])\n#print(A)\n#print(B)\nC=A@B\nprint(C)\nprint(np.dot(A,B))",
      "metadata": {
        "trusted": true
      },
      "outputs": [
        {
          "name": "stdout",
          "text": "[[ 9 11]\n [21 32]]\n[[ 9 11]\n [21 32]]\n",
          "output_type": "stream"
        }
      ],
      "execution_count": 63
    },
    {
      "cell_type": "markdown",
      "source": "**A special kind of matrix multiplication**\n\nIn matrices we can define multiplication such that entries in first matrix is multiplied with corrosponding entry of matrix called the component multiplication\n\n$$[a_{ij}]\\times [b_{ij}]=[a_{ij}b_{ij}]$$",
      "metadata": {}
    },
    {
      "cell_type": "code",
      "source": "#Componentwise matrix multiplication\nimport numpy as np\nA=np.array([[1,2,3],[4,5,6]])\nB=np.array([[1,4,1],[2,2,1]])\nC=np.array([[0,0,0],[0,0,0]])\nfor i in range (len(A)):\n    for j in range (len(A[0])):\n        C[i][j]=A[i][j]*B[i][j]\nprint(C)\n# in numpy we compute CWMM with A*B\nprint(A*B)",
      "metadata": {
        "trusted": true
      },
      "outputs": [
        {
          "name": "stdout",
          "text": "[[ 1  8  3]\n [ 8 10  6]]\n[[ 1  8  3]\n [ 8 10  6]]\n",
          "output_type": "stream"
        }
      ],
      "execution_count": 12
    },
    {
      "cell_type": "markdown",
      "source": "# Common Notions\n- **Diagonal entries** of a square matrix refers to the entries $a_{ii}$ often termed as main diagonal or leading diagonal.\n- **Anti-diagonal** of a square matrix refers to the non-main-diagonal \n- **Determinant** of a square matrix is obtained by sum and product of entries in a specific fashion.\n- **Trace** is the sum of diagonal entries of a matrix.",
      "metadata": {}
    },
    {
      "cell_type": "markdown",
      "source": "# Types of square matrix\n## 1. Transpose matrix\nThe operation of interchanging rows and columns of a matrix mutually is called transposing. Often denoted as $A^T$\nFor example the transpose of matrix $(1~2~3)$ is $\\begin{pmatrix} 1\\\\2\\\\3\\end{pmatrix}$\n\n- Transposing is not limited to square matrices, we can transpose all kind of matrices.\n## 2. Identity Matrix\nThe identity matrix often denoted as $I$ is a square matrix with diagonal entries as $1$ rest all zero.\n$$I_{3\\times 3}=\\begin{pmatrix}1&0&0\\\\0&1&0\\\\0&0&1\\end{pmatrix}_{3\\times{3}}$$\n- multiplying a matrix with identity matrix never alters the matrix.\n- multiplying a matrix with its invers results in identity matrix\n## 3. Inverse Matrix\nLet $A$ be a square matrix then the inverse of $A$ is denoted as $A^{-1}$ is the matrix which when multiplied with $A$ gives the identity matrix.\n**Note:** inverse of a matrix always exist when we have a singular matrix.\n## 4. Singular/Non-singular matrix\nA square matrix is said to be singular if its determinant is zero, else it is non singular.\n## 5. Symmetric matrix\nA square matrix is said to be symmetric if its transpose is same as the matrix.\n\n$A$ is symmetric iff $A^T=A$\n## 6. Skew-symmetric matrix\nA square matrix is said to be skew-symmetric if its transpose is same as the matrix and only differ by a negative sign.\n\n$A$ is symmetric iff $A^T=-A$\n## 7. Triangular matrix\nA matrix is said to be triangular if entries above or below the leading diagonal are zero.\n- If entries above main diagonal are zero we call it lower triangular else upper triangular.\n## 8. Diagonal matrix\nA matrix whose entries are zero except the main diagonal entries is called a diagonal matrix.\n## 9. Scalar matrix\nA matrix identifed as a scalar multiple of identity matrix is called as a scalar matrix.\n## 10. zero matrix\nA matrix with all entries as zero is a zero matrix.\n- multiplying a matrix with the zero matrix gives zero matrix.\n- adding zero matrix with a matrix returns the matrix itself.\n11. Orthogonal matrix\nA matrix is orthogonal if $A^T=a^{-1}$ or equivalently $AAT=I$\n12. Unitary matrix\nA matrix is unitary if $A^*=a^{-1}$ or equivalently $AA^*=I$",
      "metadata": {}
    },
    {
      "cell_type": "markdown",
      "source": "# Matrix addition\nIn order to add matrices, matrices has to be of same order, we just add each entry of first matrix with corresponding entry of the other matrix.",
      "metadata": {}
    },
    {
      "cell_type": "code",
      "source": "#Adding matrices\na=[[1,2],[3,4]]\nb=[[2,1],[2,2]]\nc=[[0,0],[0,0]]\nfor i in range (len(a)):\n    for j in range (len(a[0])):\n                    c[i][j]=a[i][j]+b[i][j]\nprint(c)",
      "metadata": {
        "trusted": true
      },
      "outputs": [
        {
          "name": "stdout",
          "text": "[[3, 3], [5, 6]]\n",
          "output_type": "stream"
        }
      ],
      "execution_count": 14
    },
    {
      "cell_type": "code",
      "source": "# finding transpose, inverse is left as an exercise to reader!!",
      "metadata": {},
      "outputs": [],
      "execution_count": null
    },
    {
      "cell_type": "markdown",
      "source": "# Matrix-scalar multiplication\nMatrix-scalar multiplication is the operation of multiplying each entry of matrix with scalar.\n\n$$\\alpha [a_{ij}]=[\\alpha a_{ij}]$$",
      "metadata": {}
    },
    {
      "cell_type": "code",
      "source": "# multiplying matrix [[1,2],[3,4]] with 5\na=[[1,2],[3,4]]\nb=5\nfor i in range (len(a)):\n    for j in range (len(a[0])):\n        a[i][j]=b*a[i][j]\nprint(a)",
      "metadata": {
        "trusted": true
      },
      "outputs": [
        {
          "name": "stdout",
          "text": "[[5, 10], [15, 20]]\n",
          "output_type": "stream"
        }
      ],
      "execution_count": 2
    },
    {
      "cell_type": "code",
      "source": "# multiplying matrix [[1,2],[3,4]] with 5 in numpy\nimport numpy as np\na=np.array([[1,2],[3,4]])\nb=5\nc=b*a\nprint(c)",
      "metadata": {
        "trusted": true
      },
      "outputs": [
        {
          "name": "stdout",
          "text": "[[ 5 10]\n [15 20]]\n",
          "output_type": "stream"
        }
      ],
      "execution_count": 3
    },
    {
      "cell_type": "markdown",
      "source": "## Rank of matrix\n- Rank of a matrix is defined as the total number of linearly independent rows or columns in the matrix.\n- Finding rank of matrix computationally is more specific to solving system of linear equations.\n- its also possible that we just check the row reduced echolon form and then tell the rank.",
      "metadata": {}
    },
    {
      "cell_type": "markdown",
      "source": "# Matrix norm\n- One can define norm in matrix in multiple ways.\n- Frobenius norm, max norm,spectral norm are most widely used.\n\n## Frobenius norm\n- Often denoted as $||A||_F$\n- It is calculated by taking the sum of squares of all the entries of the matrix and then its squareroot.\n- Let $A_{m\\times n}$ then the Frobenius norm is:\n$$||A||_F=\\sum_{i=1}^{m}\\sum_{j=1}^{n}a_{ij}^2$$",
      "metadata": {}
    },
    {
      "cell_type": "code",
      "source": "# Find the frobenius norm of the matrix [[1,2],[3,4]]\na=[[1,2,3],[3,4,5]]\nb=0\nfor i in range(len(a)):\n    for j in range(len(a[0])):\n        b=b+a[i][j]*a[i][j]\n#print(b)\nc=pow(b,0.5)\nprint(\"The Frobenius norm is:\",c)",
      "metadata": {
        "trusted": true
      },
      "outputs": [
        {
          "name": "stdout",
          "text": "The Frobenius norm is: 8.0\n",
          "output_type": "stream"
        }
      ],
      "execution_count": 23
    },
    {
      "cell_type": "code",
      "source": "# Find the frobenius norm of the matrix [[1,2],[3,4]] using numpy\nimport numpy as np\na=np.array([[1,2,3],[3,4,5]])\nb=np.linalg.norm(a,'fro')\nprint(\"The Frobenius norm using numpy is:\",b)",
      "metadata": {
        "trusted": true
      },
      "outputs": [
        {
          "name": "stdout",
          "text": "The Frobenius norm using numpy is: 8.0\n",
          "output_type": "stream"
        }
      ],
      "execution_count": 31
    },
    {
      "cell_type": "markdown",
      "source": "## Max norm\n- Often denoted as $||A||_{max}$ or $||A||_{\\infty}$\n- It is calculated by taking the sum of absolute values of each rows and then the maximum among them.\n- Let $A_{m\\times n}$ then the Max norm is:\n$$||A||_{Max}=Max_{1\\le i\\le n}\\sum_{j=1}^{n}|a_{ij}|$$",
      "metadata": {}
    },
    {
      "cell_type": "code",
      "source": "# Find the max norm of the matrix [[1,2],[3,4]]\na=[[1,2,3],[3,4,5]]\nb=[0,0]\nfor i in range(len(a)):\n    for j in range(len(a[0])):\n        b[i]=b[i]+abs(a[i][j])\n#print(b)\nc=max(b)\nprint(\"The Max norm is:\",c)",
      "metadata": {
        "trusted": true
      },
      "outputs": [
        {
          "name": "stdout",
          "text": "The Max norm is: 12\n",
          "output_type": "stream"
        }
      ],
      "execution_count": 5
    },
    {
      "cell_type": "code",
      "source": "# Find the max norm of the matrix [[1,2],[3,4]] using numpy\nimport numpy as np\na=[[1,2,3],[3,4,5]]\nc=np.linalg.norm(a,np.inf)\nprint(\"The Max norm is:\",c)",
      "metadata": {
        "trusted": true
      },
      "outputs": [
        {
          "name": "stdout",
          "text": "The Max norm is: 12.0\n",
          "output_type": "stream"
        }
      ],
      "execution_count": 2
    },
    {
      "cell_type": "markdown",
      "source": "## Spectral norm\n\n- The spectral norm of a matrix is defined as:\n$$||A||_2=Max_{x}\\frac{||Ax||}{||A||}$$\n- The norm signifies the maximum extent to which a matrix can strech a vector.",
      "metadata": {}
    },
    {
      "cell_type": "code",
      "source": "# Spectral norm of [1,2,3],[3,4,5]\nimport numpy as np\na=[[1,2,3],[3,4,5]]\nc=np.linalg.norm(a,2)\nprint(\"The Max norm is:\",c)",
      "metadata": {
        "trusted": true
      },
      "outputs": [
        {
          "name": "stdout",
          "text": "The Max norm is: 7.97638869424527\n",
          "output_type": "stream"
        }
      ],
      "execution_count": 6
    }
  ]
}