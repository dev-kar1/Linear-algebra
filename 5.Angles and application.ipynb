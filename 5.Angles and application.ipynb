{
  "metadata": {
    "language_info": {
      "codemirror_mode": {
        "name": "python",
        "version": 3
      },
      "file_extension": ".py",
      "mimetype": "text/x-python",
      "name": "python",
      "nbconvert_exporter": "python",
      "pygments_lexer": "ipython3",
      "version": "3.8"
    },
    "kernelspec": {
      "name": "python",
      "display_name": "Python (Pyodide)",
      "language": "python"
    }
  },
  "nbformat_minor": 4,
  "nbformat": 4,
  "cells": [
    {
      "cell_type": "markdown",
      "source": "# Angle between vectors\nThe angle between two vectors can easily be identified using the norm and inner product.\n\nLet $x$ and $y$ be two vectors then the angle $\\theta$ between $x$ and $y$ is given as:\n    $$\\cos{\\theta}=\\frac{\\left<x,y\\right>}{||x||||y||}$$\nor,\n$${\\theta}=\\arccos\\left(\\frac{\\left<x,y\\right>}{||x||||y||}\\right)$$",
      "metadata": {}
    },
    {
      "cell_type": "code",
      "source": "# Find the angle between the vecrors (1,2,1) and (2,1,2)\nimport numpy as np\nx=np.array([1,2,1])\ny=np.array([2,1,2])\na=np.inner(x,y)\nb=np.linalg.norm(x,2)\nc=np.linalg.norm(y,2)\nprint(\"cos theta =\",a/(b*c))\nd=np.arccos(a/(b*c))\nprint(\"theta =\",d) # Note that we get value in radian it can be converted to degrees radian * 180/pi = deg\n#acos(number) is a function in math library that can be used also",
      "metadata": {
        "trusted": true
      },
      "execution_count": 13,
      "outputs": [
        {
          "name": "stdout",
          "text": "cos theta = 0.8164965809277261\ntheta = 0.6154797086703871\n",
          "output_type": "stream"
        }
      ]
    },
    {
      "cell_type": "code",
      "source": "# above calculations can be done withou using numpy also, left as an exercise ",
      "metadata": {},
      "execution_count": null,
      "outputs": []
    },
    {
      "cell_type": "markdown",
      "source": "# Orthogonal vectors\nWe say a pair of lines are orthogonal if the vectors are perpendicular to each other.\n$\\theta=\\frac{\\pi}{2}$ so $\\cos{\\theta}=0$\n\nThus, a pairof vectors are orthogonal if their inner product vanishes.\n$$<x,y>=0$$",
      "metadata": {}
    },
    {
      "cell_type": "code",
      "source": "#check if the vectors are orthogonal (1,0,0),(0,0,1)\n#problem is to check <x,y>=0 or not\nx=np.array([1,0,0])\ny=np.array([0,0,1])\nif np.inner(x,y)==0:\n    print('Vectors are orthogonal')\nelse:\n    print(\"not orthogonal as <x,y> = \",np.inner(x,y))",
      "metadata": {
        "trusted": true
      },
      "execution_count": 38,
      "outputs": [
        {
          "name": "stdout",
          "text": "Vectors are orthogonal\n",
          "output_type": "stream"
        }
      ]
    },
    {
      "cell_type": "code",
      "source": "#check if the vectors are orthogonal (1,0,0),(1,1,1)\n#problem is to check <x,y>=0 or not\nx=np.array([1,0,0])\ny=np.array([1,1,1])\nif np.inner(x,y)==0:\n    print('Vectors are orthogonal')\nelse:\n    print(\"not orthogonal as <x,y> =\",np.inner(x,y))",
      "metadata": {
        "trusted": true
      },
      "execution_count": 39,
      "outputs": [
        {
          "name": "stdout",
          "text": "not orthogonal as <x,y> = 1\n",
          "output_type": "stream"
        }
      ]
    },
    {
      "cell_type": "markdown",
      "source": "Note: one cal also calclate the angle to be 90 degrees or $\\frac{\\pi}{2}~\\text{rad}=1.571$",
      "metadata": {}
    },
    {
      "cell_type": "markdown",
      "source": "# Cauchy schwarz inequality\nLet $x,y$ be two vectors, then the cauchy schwarz's inequality is:\n$|<x,y>|\\le ||x||||y||$\n\nThe proof is simple:\n$$<x,y>=||x||||y||\\cos{\\theta}$$\nor $$\\frac{<x,y>}{||x||||y||}\\le \\cos{\\theta}$$\nor $$\\frac{<x,y>}{||x||||y||}\\le 1$$\nTaking the modulus we get\n$$|<x,y>|\\le ||x||||y||$$",
      "metadata": {}
    },
    {
      "cell_type": "code",
      "source": "#verify the cauchy schwarz inequality for vectors (1,0,0),(1,1,1)\n#problem is to verify <x,y><=||x||||y||\nx=np.array([1,0,0])\ny=np.array([1,1,1])\nd=np.inner(x,y)\nprint('<x,y>=',d)\na=np.linalg.norm(x,2)\nb=np.linalg.norm(y,2)\nc=a*b\nprint(\"||x||*||y||=\",c)\nprint('cs ineq verified <x,y><=||x||||y|| for given vectors')",
      "metadata": {
        "trusted": true
      },
      "execution_count": 43,
      "outputs": [
        {
          "name": "stdout",
          "text": "<x,y>= 1\n||x||*||y||= 1.7320508075688772\ncs ineq verified <x,y><=||x||||y|| for given vectors\n",
          "output_type": "stream"
        }
      ]
    }
  ]
}