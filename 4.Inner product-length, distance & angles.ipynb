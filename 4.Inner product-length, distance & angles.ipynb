{
  "metadata": {
    "kernelspec": {
      "name": "python",
      "display_name": "Python (Pyodide)",
      "language": "python"
    },
    "language_info": {
      "codemirror_mode": {
        "name": "python",
        "version": 3
      },
      "file_extension": ".py",
      "mimetype": "text/x-python",
      "name": "python",
      "nbconvert_exporter": "python",
      "pygments_lexer": "ipython3",
      "version": "3.8"
    }
  },
  "nbformat_minor": 4,
  "nbformat": 4,
  "cells": [
    {
      "cell_type": "markdown",
      "source": "## Inner product, Length & Distance\n# Inner product \nInner product is the generalized version of dot product.It is denoted as $\\left<\\cdot,\\cdot\\right >$\n\nIt takes two vectors in the space and returns a number as output.\n\n$\\left<\\cdot,\\cdot\\right >$ is a inner product if it satisfies the following\n1. $\\left<x,y\\right >=\\left<y,x\\right >$\n2. $\\left<x+z,y\\right >=\\left<x,y\\right >+\\left<y,x\\right>$\n3. $\\left<\\alpha\\cdot x,y\\right >=\\alpha\\left<x,y\\right >$\n4. $\\left<x,x\\right >\\ge 0$ and $\\left<x,x\\right >=0$ only if $x=0$ \n\n\nevery inner product is  dot product but not every dot produt is inner product\n\n# Length\nLength is a positive quantity that defines how large or small a vector is. For a vector of length 1 we say it unit vector. To obtain length we need to find the squareroot of the inner product of a vector with itself.\nUsually it is the norm only.\n\n# Distance\nLet $x$ and $y$ be two vectors,the length of position vector of $x$ w.r.t $y$ is called the distance between $x$ and $y$.\n\nIt is represented as $d(x,y)$\n$$d(x,y)=||x-y||=\\sqrt{\\left<x-y,x-y\\right>}$$",
      "metadata": {}
    },
    {
      "cell_type": "code",
      "source": "# Verify the property 1 of inner product if x=(1,2,2,1) and y=(2,1,4,-1)\nx=[1,2,2,1]\ny=[2,1,4,-1]\nz_1=[0,0,0,0] #for finding <x,y>\nz_2=[0,0,0,0] #for finding <y,x>\nip_xy=0\nip_yx=0\nfor i in range (len(x)):  #instead of writing 4 we can simply input len() for generalization\n    z_1[i]=x[i]*y[i]\n    z_2[i]=y[i]*x[i]\nprint(\"<x,y> is:\",sum(z_1))\nprint(\"<y,x> is:\",sum(z_2))",
      "metadata": {
        "trusted": true
      },
      "outputs": [
        {
          "name": "stdout",
          "text": "<x,y> is: 11\n<y,x> is: 11\n",
          "output_type": "stream"
        }
      ],
      "execution_count": 2
    },
    {
      "cell_type": "code",
      "source": "#Using numpy verify the property 1 of inner product if x=(1,2,2,1) and y=(2,1,4,-1)\n# x.T@y gives inner product\n#np.linalg.inner() is a function to find inner product\nx=np.array([1,2,2,1])\ny=np.array([2,1,4,-1])\nprint('using x.T@y')\nprint(\"<x,y> is:\",x.T@y)\nprint(\"<y,x> is:\",y.T@x)\n\n#print(np.inner(x,y))\nprint('using np.inner function')\nprint(\"<x,y> is:\",np.inner(x,y))\nprint(\"<y,x> is:\",np.inner(y,x))\n",
      "metadata": {
        "trusted": true
      },
      "outputs": [
        {
          "name": "stdout",
          "text": "using x.T@y\n<x,y> is: 11\n<y,x> is: 11\nusing np.inner function\n<x,y> is: 11\n<y,x> is: 11\n",
          "output_type": "stream"
        }
      ],
      "execution_count": 76
    },
    {
      "cell_type": "code",
      "source": "# Verify the property 2 of inner product if x=(1,2,2,1),y=(2,1,4,-1) and z=(0,2,3,1)\n# problem is to check that: <x+z,y>=<x,y> + <z,y>\nx=[1,2,2,1]\ny=[2,1,4,-1]\nz=[0,2,3,1]\n#starting with RHS <x,y> + <z,y>\nrhs_1=[0,0,0,0] #for finding <x,y> which is 1st part of rhs\nrhs_2=[0,0,0,0] #for finding <y,x> which is 2nd part of rhs\nfor i in range (len(x)):  #instead of writing 4 we can simply input len() for generalization length of x,y,z are all same\n    rhs_1[i]=x[i]*y[i]\n    rhs_2[i]=z[i]*y[i]\nrhs=sum(rhs_1)+sum(rhs_2)\nprint(\"RHS=<x,y> + <z,y> = \",rhs)\n\n\n#coming to LHS <x+z,y>\nw=[0,0,0,0] #for defining w=x+y\nlhs_1=[0,0,0,0] #for calculation of LHS part \nfor j in range (len(y)):\n    w[j]=x[j]+z[j]  \n#print(w)\n\nfor k in range (len(w)):    \n    lhs_1[k]=w[k]*y[k]\nlhs=sum(lhs_1)\nprint(\"LHS=<x + z,y> =\",lhs)\nprint('LHS=RHS verified')\n",
      "metadata": {
        "trusted": true
      },
      "outputs": [
        {
          "name": "stdout",
          "text": "RHS=<x,y> + <z,y> =  24\nLHS=<x + z,y> = 24\nLHS=RHS verified\n",
          "output_type": "stream"
        }
      ],
      "execution_count": 22
    },
    {
      "cell_type": "code",
      "source": "# Using numpy verify the property 2 of inner product if x=(1,2,2,1),y=(2,1,4,-1) and z=(0,2,3,1)\n# problem is to check that: <x+z,y>=<x,y> + <z,y>\nx=np.array([1,2,2,1])\ny=np.array([2,1,4,-1])\nz=np.array([0,2,3,1])\nprint(\"LHS=<x + z,y> =\",np.inner(x+z,y))\nprint(\"RHS=<x,y> + <z+y> =\",np.inner(x,y)+np.inner(z,y))\nprint('LHS=RHS verified')\n",
      "metadata": {
        "trusted": true
      },
      "outputs": [
        {
          "name": "stdout",
          "text": "LHS=<x + z,y> = 24\nRHS=<x,y> + <z+y> = 24\nLHS=RHS verified\n",
          "output_type": "stream"
        }
      ],
      "execution_count": 85
    },
    {
      "cell_type": "code",
      "source": "# Verify the property 3 of inner product if x=(1,2,2,1),y=(2,1,4,-1) and a=8\n# problem is to check <ax,y>=a<x,y>\nx=[1,2,2,1]\ny=[2,1,4,-1]\na=8\nlhs,rhs=0,0\n#starting with RHS a<x,y>\nrhs_1=[0,0,0,0] #for finding <x,y> which is 1st part of rhs\nrhs_2=[0,0,0,0] #for finding <y,x> which is 2nd part of rhs\nfor i in range (len(x)):  #instead of writing 4 we can simply input len() for generalization length of x,y,z are all same\n    rhs_1[i]=x[i]*y[i]\nrhs=sum(rhs_1)*a\n#print(rhs_1)\nprint(\"RHS=a<x,y> = \",rhs)\n\n\n#coming to LHS <x+z,y>\nw=[0,0,0,0] #for defining w=ax\nlhs_1=[0,0,0,0] #for calculation of LHS part \nfor j in range (len(y)):\n    w[j]=a*x[j]  \n#print(\"ax=\",w)\n\nfor k in range (len(w)):    \n    lhs_1[k]=w[k]*y[k]\nlhs=sum(lhs_1)\nprint(\"LHS=<ax,y> =\",lhs)\nprint('LHS=RHS verified')\n",
      "metadata": {
        "trusted": true
      },
      "outputs": [
        {
          "name": "stdout",
          "text": "RHS=a<x,y> =  88\nLHS=<ax,y> = 88\nLHS=RHS verified\n",
          "output_type": "stream"
        }
      ],
      "execution_count": 29
    },
    {
      "cell_type": "code",
      "source": "# using numpy verify the property 3 of inner product if x=(1,2,2,1),y=(2,1,4,-1) and a=8\n# problem is to check <ax,y>=a<x,y>\nx=np.array([1,2,2,1])\ny=np.array([2,1,4,-1])\na=8\n#print(a*x)\nprint(\"RHS=a<x,y> = \",np.inner(a*x,y))\nprint(\"LHS=<ax,y> =\",a*np.inner(x,y))\nprint('LHS=RHS verified')\n",
      "metadata": {
        "trusted": true
      },
      "outputs": [
        {
          "name": "stdout",
          "text": "RHS=a<x,y> =  88\nLHS=<ax,y> = 88\nLHS=RHS verified\n",
          "output_type": "stream"
        }
      ],
      "execution_count": 89
    },
    {
      "cell_type": "code",
      "source": "# Find length of the vector (2,1,2)\nx=[2,1,2]\na=0\nfor i in range (3):\n    a=a+x[i]*x[i]\n#print(a)\nimport math\nlength=math.sqrt(a)\nprint(\"length of the vector x is:\",length)",
      "metadata": {
        "trusted": true
      },
      "outputs": [
        {
          "name": "stdout",
          "text": "length of the vector x is: 3.0\n",
          "output_type": "stream"
        }
      ],
      "execution_count": 37
    },
    {
      "cell_type": "code",
      "source": "# Find length of the vector (2,1,2)\n# Numpy\nimport numpy as np\nx=np.array([2,1,2])\nimport math\nlength=np.linalg.norm(x)\nprint(\"length of the vector x is:\",length)",
      "metadata": {
        "trusted": true
      },
      "outputs": [
        {
          "name": "stdout",
          "text": "length of the vector x is: 3.0\n",
          "output_type": "stream"
        }
      ],
      "execution_count": 39
    },
    {
      "cell_type": "code",
      "source": "# Find the distance between the vectors (1,2,4) and (2,1,2)\n#Euclidean distance\nimport math\nx,y,z=[1,2,4],[2,1,2],[0,0,0]\nz=[0,0,0] #for defining x-y so that we can find ||x-y||=||z||\na=0\n#step 1: finding x-y\nfor i in range (3):\n    z[i]=x[i]-y[i]\n#print(z)\n#step 2: finding xT*x\nfor j in range (3):\n    a=a+z[j]*z[j]\n#print(a)\n#step 3: taking square root of xT*x\nnorm_2=math.sqrt(a)\nprint(\"The euclidean distance between x and y is:\",norm_2)",
      "metadata": {
        "trusted": true
      },
      "outputs": [
        {
          "name": "stdout",
          "text": "The euclidean distance between x and y is: 2.449489742783178\n",
          "output_type": "stream"
        }
      ],
      "execution_count": 59
    },
    {
      "cell_type": "code",
      "source": "# Find the distance between the vectors (1,2,4) and (2,1,2)\n#Manhatten distance\nimport math\nx,y,z=[1,2,4],[2,1,2],[0,0,0]\nz=[0,0,0] #for defining x-y so that we can find ||x-y||=||z||\nnorm_1=0\n#step 1: finding x-y\nfor i in range (3):\n    z[i]=abs(x[i]-y[i]) #using abs() function to act as modulus |.|\n#print(z)\n#step 2: finding sum of abs values\nfor j in range (3):\n    norm_1=norm_1+z[j]\n#print(a)\n\nprint(\"The taxi cab distance between x and y is:\",norm_1)",
      "metadata": {
        "trusted": true
      },
      "outputs": [
        {
          "name": "stdout",
          "text": "The taxi cab distance between x and y is: 4\n",
          "output_type": "stream"
        }
      ],
      "execution_count": 58
    },
    {
      "cell_type": "code",
      "source": "# Find the distance between the vectors (1,2,4) and (2,1,2)\n#max distance\nimport math\nx,y,z=[1,2,4],[2,1,2],[0,0,0]\nz=[0,0,0] #for defining x-y so that we can find ||x-y||=||z||\n#step 1: finding x-y\nfor i in range (3):\n    z[i]=x[i]-y[i]\nprint(z)\n#step 2: finding the maximum value in z \nnorm_max=max(z) #the max() function returns us the maximum value\n#print(a)\nprint(\"The max distance between x and y is:\",norm_max)",
      "metadata": {
        "trusted": true
      },
      "outputs": [
        {
          "name": "stdout",
          "text": "[-1, 1, 2]\nThe max distance between x and y is: 2\n",
          "output_type": "stream"
        }
      ],
      "execution_count": 64
    },
    {
      "cell_type": "code",
      "source": "#using numpy\n# Find the distance between the vectors (1,2,4) and (2,1,2)\n#linalg.norm() returns the distance\nimport numpy as np\nx=np.array([1,2,4])\ny=np.array([2,1,2])\nnorm_1=np.linalg.norm(x-y,1)\nnorm_2=np.linalg.norm(x-y,2)\nnorm_inf=np.linalg.norm(x-y,np.inf) #np.inf gives the infinity norm\nprint(\"Taxi cab norm:\",norm_1)\nprint(\"Euclidean norm:\",norm_2)\nprint(\"Infinity norm:\",norm_inf)",
      "metadata": {
        "trusted": true
      },
      "outputs": [
        {
          "name": "stdout",
          "text": "Taxi cab norm: 4.0\nEuclidean norm: 2.449489742783178\nInfinity norm: 2.0\n",
          "output_type": "stream"
        }
      ],
      "execution_count": 66
    }
  ]
}